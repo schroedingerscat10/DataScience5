{
 "cells": [
  {
   "attachments": {},
   "cell_type": "markdown",
   "id": "89d0f270-e012-4d95-850d-fbf05fc42281",
   "metadata": {},
   "source": [
    "## Exercise Sheet 5\n",
    "\n",
    "#### **Submission** <br> June 10th 12:00 p.m. (via studIP)\n",
    "#### **Defense** <br> June 13th 8:00 - 11:00 a.m\n",
    "\n",
    "A **maximum** of 5 percentage points bonus for the exam can be achieved with each sheet if:\n",
    "1) at least 60% of the worksheet has been completed correctly \n",
    "2) the worksheet has been successfully defended (explained to the tutors).\n",
    "*Conditions*:\n",
    "- Each group must register for a slot in studIP for the defense.\n",
    "- Successful defense means that a team member selected by us explains the solution and answers questions about it.\n",
    "- ChatGPT and other tools may be used, but must be cited.\n",
    "- The code must be explained without any aids.\n",
    "- We will not only evaluate the correctness of the results, but also whether the code is efficient, easy to understand, tidy and well documented.\n",
    "- Each group submits only one solution as a zip file, which is provided with the name and student number of a group member. For example, `mustermann_12345678.zip`. "
   ]
  },
  {
   "attachments": {},
   "cell_type": "markdown",
   "id": "c98c6db8-b47c-499d-a5a3-a57cf918f0a0",
   "metadata": {},
   "source": [
    "## Exercise 1\n",
    "**Attention:** Some commands are interactive. We therefore recommend executing all commands in a separate terminal and then documenting them here.\n",
    "\n",
    "**Attention:** We want to practice managing remote repositories, including forks and pull requests. Since it is not possible to fork your own repository, you either need to have two user accounts (group members) or you create the remote repository in an organization (see [here](https://docs.github.com/en/organizations/collaborating-with-groups-in-organizations/creating-a-new-organization-from-scratch)) and then fork the repository with your own account.\n",
    "\n",
    "The final submission should contain the entire Git repository (the folder including the hidden subfolder `.git` and the link to GitHub), which shows that you have executed all commands correctly."
   ]
  },
  {
   "attachments": {},
   "cell_type": "markdown",
   "id": "f8e2ed09-bdc7-4846-812b-a90a6da9711e",
   "metadata": {},
   "source": [
    "#### a) [2.5%] \n",
    "- Create a new local repository \n",
    "- Copy the files `mergesort.py` and `to_be_ignored.txt` in the repository and commit them."
   ]
  },
  {
   "cell_type": "code",
   "execution_count": null,
   "id": "e9ea1105",
   "metadata": {
    "vscode": {
     "languageId": "plaintext"
    }
   },
   "outputs": [],
   "source": []
  },
  {
   "attachments": {},
   "cell_type": "markdown",
   "id": "23b63840-7c4d-40cd-9fe2-c51a869fc0ec",
   "metadata": {},
   "source": [
    "#### b) [5%]\n",
    "- Create a `.gitignore` file (see [here](https://github.com/github/gitignore) for examples of useful gitignore templates). \n",
    "- Add `to_be_ignored.txt` to `.gitignore` and remove it from Git history."
   ]
  },
  {
   "cell_type": "code",
   "execution_count": null,
   "id": "62f99fbe",
   "metadata": {
    "vscode": {
     "languageId": "plaintext"
    }
   },
   "outputs": [],
   "source": []
  },
  {
   "attachments": {},
   "cell_type": "markdown",
   "id": "ab7a9d11-89eb-4716-8571-34766d4c976f",
   "metadata": {},
   "source": [
    "#### c) [15%]\n",
    "- Create a new branch (feature branch) and then switch to it.\n",
    "- Clean the `mergesort.py` file to follow the clean code rules we established in the lecture. \n",
    "- Also try to understand the code (see e.g. [here](https://www.happycoders.eu/de/algorithmen/mergesort/) for an explanation of the algorithm) and document the code.\n",
    "- Its functionality should not change!\n",
    "- There should be at least 7 points to improve.\n",
    "- Commit your changes."
   ]
  },
  {
   "cell_type": "code",
   "execution_count": null,
   "id": "75e295c5",
   "metadata": {
    "vscode": {
     "languageId": "plaintext"
    }
   },
   "outputs": [],
   "source": []
  },
  {
   "attachments": {},
   "cell_type": "markdown",
   "id": "1c131abc-c1b0-4b97-ac37-04abad5f5e99",
   "metadata": {},
   "source": [
    "#### d) [5%]\n",
    "- Create a new repository on GitHub (make it public). \n",
    "- Set up ssh verification for your GitHub account. \n",
    "- Add your repository's ssh address to your local repository as a new remote repository."
   ]
  },
  {
   "cell_type": "code",
   "execution_count": null,
   "id": "be3b9797",
   "metadata": {
    "vscode": {
     "languageId": "plaintext"
    }
   },
   "outputs": [],
   "source": []
  },
  {
   "attachments": {},
   "cell_type": "markdown",
   "id": "5a03706d-c986-48c9-9207-2ff59770b7f4",
   "metadata": {},
   "source": [
    "#### e) [2.5%]\n",
    "- Switch back to the `main` branch.\n",
    "- Push to your remote repository"
   ]
  },
  {
   "cell_type": "code",
   "execution_count": null,
   "id": "fe7c6a6e",
   "metadata": {
    "vscode": {
     "languageId": "plaintext"
    }
   },
   "outputs": [],
   "source": []
  },
  {
   "attachments": {},
   "cell_type": "markdown",
   "id": "6d91483e-0a00-4fba-958d-fea707fd47e2",
   "metadata": {},
   "source": [
    "#### f) [5%]\n",
    "- Modify the plotting part of `mergesort.py` to reflect the standards set in the lecture. (Also try to think about what the best type of plot might be for this data.)\n",
    "- Commit it and push it to the remote repository."
   ]
  },
  {
   "cell_type": "code",
   "execution_count": null,
   "id": "f848a061",
   "metadata": {
    "vscode": {
     "languageId": "plaintext"
    }
   },
   "outputs": [],
   "source": []
  },
  {
   "attachments": {},
   "cell_type": "markdown",
   "id": "3f4d7088-60b8-41b5-9806-114839f8e8cb",
   "metadata": {},
   "source": [
    "#### g) [2.5%]\n",
    " - Switch back to the feature branch. \n",
    " - Create a fork of the remote repository on GitHub. **This must be done by another user if the original repository does not belong to an organization!** \n",
    " - Add the fork as another remote repository to your local repository. \n",
    " - Push your local branch to the fork and create a pull request on GitHub."
   ]
  },
  {
   "cell_type": "code",
   "execution_count": null,
   "id": "36d55c11",
   "metadata": {
    "vscode": {
     "languageId": "plaintext"
    }
   },
   "outputs": [],
   "source": []
  },
  {
   "attachments": {},
   "cell_type": "markdown",
   "id": "6d9dbf98-3ea2-4b7f-8b8b-eb4526784c28",
   "metadata": {},
   "source": [
    "#### h) [10%]\n",
    "- The pull request should indicate that there are conflicts. \n",
    "- Merge the `main` branch (local on your computer) into your feature branch (not the other way around!) and resolve the conflicts.\n",
    "- Push your feature branch back into your fork and merge the pull request."
   ]
  },
  {
   "cell_type": "code",
   "execution_count": null,
   "id": "2248a9a7",
   "metadata": {
    "vscode": {
     "languageId": "plaintext"
    }
   },
   "outputs": [],
   "source": []
  },
  {
   "attachments": {},
   "cell_type": "markdown",
   "id": "8f690324-815f-4e2e-807b-3e6f87f483dd",
   "metadata": {},
   "source": [
    "#### i) [2.5%]\n",
    "- Switch back to the \"main\" branch and pull from the remote repository.\n",
    "- Delete the local feature branch (it is already in the main branch). "
   ]
  },
  {
   "cell_type": "code",
   "execution_count": null,
   "id": "677abe5f",
   "metadata": {
    "vscode": {
     "languageId": "plaintext"
    }
   },
   "outputs": [],
   "source": []
  },
  {
   "attachments": {},
   "cell_type": "markdown",
   "id": "d44e4b00-95cf-4be3-8b46-90d53bfad0aa",
   "metadata": {},
   "source": [
    "View your Git history:"
   ]
  },
  {
   "cell_type": "code",
   "execution_count": null,
   "id": "b4db096d-eeaf-442e-8620-6b76bb4f33eb",
   "metadata": {},
   "outputs": [],
   "source": [
    "git log"
   ]
  },
  {
   "attachments": {},
   "cell_type": "markdown",
   "id": "2932b317-11a9-4cfd-9757-519c0cd4a396",
   "metadata": {},
   "source": [
    "## Exercise 2"
   ]
  },
  {
   "attachments": {},
   "cell_type": "markdown",
   "id": "39e88314-ea52-4e2a-a106-41e006e64b29",
   "metadata": {},
   "source": [
    "Consider the following task:\n",
    "\n",
    "Given an array of integers in which all elements except one appear exactly twice, find the individual element.\n",
    "\n",
    "Example: `[1,2,3,4,3,1,2]`\n",
    "\n",
    "The single element is: `4`\n",
    "\n",
    "You can assume that the array is odd length and there is only one element that occurs exactly once.\n",
    "\n",
    "*Note: The following tasks do not necessarily have to be completed in order.*"
   ]
  },
  {
   "attachments": {},
   "cell_type": "markdown",
   "id": "1be8bfc4-a31b-49ee-8ceb-f8c8daa863de",
   "metadata": {},
   "source": [
    "#### a) [15%] Write test cases for the task described above. \n",
    "(At least 5 test cases required!) \n",
    "Think about possible edge cases and invalid inputs.\n",
    "\n",
    "**Use `pytest` and write the tests in separate files.**"
   ]
  },
  {
   "attachments": {},
   "cell_type": "markdown",
   "id": "1a6141b7-2f71-4ff2-8dfe-55e837ee512e",
   "metadata": {},
   "source": [
    "#### b) [10%] Based on the test cases, write a method that solves the task successfully (and efficiently)."
   ]
  },
  {
   "attachments": {},
   "cell_type": "markdown",
   "id": "fe34d47b-87c5-4b09-9971-afa77a183380",
   "metadata": {},
   "source": [
    "The method should also be written in a separate file."
   ]
  },
  {
   "attachments": {},
   "cell_type": "markdown",
   "id": "4af37373-85a5-4e27-96a9-0c093f56a2c8",
   "metadata": {},
   "source": [
    "#### c) [10%] Write a Docker file that installs `numpy`, `pandas`, `matplotlib` and `seaborn`."
   ]
  },
  {
   "attachments": {},
   "cell_type": "markdown",
   "id": "4101f101-6a16-4308-add4-f4dc94ec8a9c",
   "metadata": {},
   "source": [
    "#### d) [15%] Write a Docker-compose file that offers two different services:\n",
    "\n",
    "1. Run all tests.\n",
    "2. Run the method for a given input.\n",
    "\n",
    "Also make sure that the container mounts the directory containing your scripts so that you have access to the latest version of your code.\n",
    "\n",
    "Also demonstrate in a test that the specified libraries from c) are installed successfully."
   ]
  },
  {
   "cell_type": "code",
   "execution_count": null,
   "id": "feb8fb48-b980-4e0f-8c16-1373e375c63b",
   "metadata": {},
   "outputs": [],
   "source": []
  }
 ],
 "metadata": {
  "kernelspec": {
   "display_name": "Bash",
   "language": "bash",
   "name": "bash"
  },
  "language_info": {
   "codemirror_mode": "shell",
   "file_extension": ".sh",
   "mimetype": "text/x-sh",
   "name": "bash"
  }
 },
 "nbformat": 4,
 "nbformat_minor": 5
}
